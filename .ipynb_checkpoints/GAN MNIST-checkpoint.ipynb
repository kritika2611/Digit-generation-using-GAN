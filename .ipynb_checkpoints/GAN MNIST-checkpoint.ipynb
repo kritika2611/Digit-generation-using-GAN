{
 "cells": [
  {
   "cell_type": "markdown",
   "metadata": {},
   "source": [
    "## GAN training\n",
    "1. Generate mini-batch from generator using noise prior(ground truth - 0)\n",
    "2. Select a mini-batch from Real training data (Ground Truth - 1)\n",
    "3. Train only Discriminator on both batches separately\n",
    "    * consider generator frozen\n",
    "4. Train Generator on random noise as input and 1 as ground truth for all examples\n",
    "    * consider discriminator frozen"
   ]
  },
  {
   "cell_type": "code",
   "execution_count": null,
   "metadata": {},
   "outputs": [],
   "source": []
  }
 ],
 "metadata": {
  "kernelspec": {
   "display_name": "Python 3",
   "language": "python",
   "name": "python3"
  },
  "language_info": {
   "codemirror_mode": {
    "name": "ipython",
    "version": 3
   },
   "file_extension": ".py",
   "mimetype": "text/x-python",
   "name": "python",
   "nbconvert_exporter": "python",
   "pygments_lexer": "ipython3",
   "version": "3.7.3"
  }
 },
 "nbformat": 4,
 "nbformat_minor": 2
}
